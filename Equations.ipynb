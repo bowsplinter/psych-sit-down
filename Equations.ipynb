{
 "cells": [
  {
   "cell_type": "markdown",
   "metadata": {},
   "source": [
    "Since the samples are small $(n < 30)$, the standard error of the mean is calculated as \n",
    "\n",
    "$$\\hat{\\sigma}_{\\bar{x_1}-\\bar{x_2}} = S_p\\sqrt{\\dfrac{1}{n1} + \\dfrac{1}{n2}}$$\n",
    "\n",
    "where $S_p$ is a pooled estimate of the population standard deviation. The variance for both the samples are assumed to be equal.\n",
    "\n",
    "$$ S_p = \\sqrt{\\dfrac{(n1-1)s_1^2 + (n2-1)s_2^2}{n1 + n2 - 2}}$$\n",
    "\n",
    "The t statistic is calcualed by dividing the difference in the mean of the samples by the standard error of the mean.\n",
    "\n",
    "$$ t = \\dfrac{\\bar{x_1}-\\bar{x_2}}{\\hat{\\sigma}_{\\bar{x_1}-\\bar{x_2}}}$$"
   ]
  },
  {
   "cell_type": "markdown",
   "metadata": {},
   "source": [
    "Critical value of $t$ for $p = 0.01$ : \n",
    "\n",
    "$$t\\_critical = 2.492$$\n",
    "\n",
    "The t statistics for the time taken and score achieved are calculated (refer to appendix for code)\n",
    "\n",
    "**Time taken:**\n",
    "\n",
    "$ t = 7.803556590428016 $\n",
    "\n",
    "Since t is higher than t_critical, the null hypothesis is rejected at a 99% confidence level\n",
    "\n",
    "**Score achieved:**\n",
    "\n",
    "$ t = 0.9894861191035229 $\n",
    "\n",
    "Since t is not higher than t_critical, the null hypothesis is unable to be rejected at a 99% confidence level"
   ]
  },
  {
   "cell_type": "code",
   "execution_count": null,
   "metadata": {},
   "outputs": [],
   "source": []
  }
 ],
 "metadata": {
  "kernelspec": {
   "display_name": "Python 3",
   "language": "python",
   "name": "python3"
  },
  "language_info": {
   "codemirror_mode": {
    "name": "ipython",
    "version": 3
   },
   "file_extension": ".py",
   "mimetype": "text/x-python",
   "name": "python",
   "nbconvert_exporter": "python",
   "pygments_lexer": "ipython3",
   "version": "3.6.5"
  }
 },
 "nbformat": 4,
 "nbformat_minor": 2
}
